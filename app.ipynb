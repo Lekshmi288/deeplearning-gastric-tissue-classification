{
 "cells": [
  {
   "cell_type": "code",
   "execution_count": 5,
   "id": "dae0df02-cafe-4c99-a328-90458ac141ee",
   "metadata": {},
   "outputs": [
    {
     "ename": "ModuleNotFoundError",
     "evalue": "No module named 'streamlit'",
     "output_type": "error",
     "traceback": [
      "\u001b[0;31m---------------------------------------------------------------------------\u001b[0m",
      "\u001b[0;31mModuleNotFoundError\u001b[0m                       Traceback (most recent call last)",
      "Cell \u001b[0;32mIn[5], line 1\u001b[0m\n\u001b[0;32m----> 1\u001b[0m \u001b[38;5;28;01mimport\u001b[39;00m\u001b[38;5;250m \u001b[39m\u001b[38;5;21;01mstreamlit\u001b[39;00m\u001b[38;5;250m \u001b[39m\u001b[38;5;28;01mas\u001b[39;00m\u001b[38;5;250m \u001b[39m\u001b[38;5;21;01mst\u001b[39;00m\n\u001b[1;32m      2\u001b[0m \u001b[38;5;28;01mimport\u001b[39;00m\u001b[38;5;250m \u001b[39m\u001b[38;5;21;01mtensorflow\u001b[39;00m\u001b[38;5;250m \u001b[39m\u001b[38;5;28;01mas\u001b[39;00m\u001b[38;5;250m \u001b[39m\u001b[38;5;21;01mtf\u001b[39;00m\n\u001b[1;32m      3\u001b[0m \u001b[38;5;28;01mfrom\u001b[39;00m\u001b[38;5;250m \u001b[39m\u001b[38;5;21;01mtensorflow\u001b[39;00m\u001b[38;5;21;01m.\u001b[39;00m\u001b[38;5;21;01mkeras\u001b[39;00m\u001b[38;5;21;01m.\u001b[39;00m\u001b[38;5;21;01mmodels\u001b[39;00m\u001b[38;5;250m \u001b[39m\u001b[38;5;28;01mimport\u001b[39;00m load_model\n",
      "\u001b[0;31mModuleNotFoundError\u001b[0m: No module named 'streamlit'"
     ]
    }
   ],
   "source": [
    "import streamlit as st\n",
    "import tensorflow as tf\n",
    "from tensorflow.keras.models import load_model\n",
    "from tensorflow.keras.preprocessing import image\n",
    "import numpy as np\n",
    "import matplotlib as mpl\n",
    "import matplotlib.pyplot as plt\n",
    "import warnings\n",
    "warnings.filterwarnings(\"ignore\")\n",
    "from gradcam_visualization import histo_GradCAM\n",
    "\n",
    "@st.cache_resource\n",
    "def load_model():\n",
    "    return tf.keras.models.load_model(\"efficientnetb3_baseline.h5\")\n",
    "\n",
    "best_model = load_model()\n",
    "\n",
    "st.title(\"PathoPredictX-GC\")\n",
    "\n",
    "st.markdown(\"\"\"\n",
    "*A deep learning tool for prediction, interpretability, and decision support in Tumor Microenvironment (TME) profiling of gastric cancer histopathology.*\n",
    "\n",
    "**PathoPredictX-GC** predicts and explains histological classifications across **8 TME tissue types** — including tumor, normal mucosa, stroma, lymphocytes, and more.  \n",
    "It is designed to support **pathologists and cancer researchers** in:\n",
    "\n",
    "- **Auditing model decisions** using Grad-CAM visualizations  \n",
    "- **Understanding prediction confidence** and probable misclassifications  \n",
    "- **Interpreting model performance** across subtle and ambiguous tissue boundaries  \n",
    "\n",
    "**Tissue types classified:**\n",
    "\n",
    "- Adipose (ADI)  \n",
    "- Debris (DEB)  \n",
    "- Lymphocytes (LYM)  \n",
    "- Mucus (MUC)  \n",
    "- Smooth Muscle (MUS)  \n",
    "- Normal Colon Mucosa (NORM)  \n",
    "- Cancer-associated Stroma (STR)  \n",
    "- Tumor (TUM)  \n",
    "\n",
    "This tool helps bridge the gap between AI-based histology models and expert review in gastric cancer diagnostics.\n",
    "\"\"\")\n",
    "\n",
    "with st.expander(\"About the model\"):\n",
    "    st.markdown(\"\"\"\n",
    "- **Architecture:** EfficientNetB3 + Softmax  \n",
    "- **Trained on:** 31,096 H&E-stained 224×224 tissue images from gastric cancer slides at Harbin Medical University Cancer Hospital, extracted using tissue heatmaps annotated from a public colorectal cancer dataset.  \n",
    "  *(HMU-GC-HE-30K dataset, see: https://doi.org/10.6084/m9.figshare.25954813)*\n",
    "- **Classes:** ADI, DEB, LYM, MUC, MUS, NOR, STR, TUM  \n",
    "- **Use case:** Supports model auditing and interpretability  \n",
    "    \"\"\")\n",
    "\n",
    "    \n",
    "with st.expander(\"Disclaimer\"):\n",
    "    st.warning(\"This tool is intended for research and demonstration only. Not for clinical use.\")\n",
    "\n",
    "    \n",
    "uploaded_file = st.file_uploader(\"Upload a tissue image patch\", type=[\"jpg\", \"png\", \"jpeg\"])\n",
    "\n",
    "if uploaded_file is not None:\n",
    "    tissue_image = image.load_img(uploaded_file)\n",
    "    tissue_image_array= image.img_to_array(tissue_image)\n",
    "    result = histo_GradCAM(best_model,tissue_image_array)\n",
    "\n",
    "    st.markdown(f\"**Predicted Class:** {result['pred_class']}\")\n",
    "    st.markdown(f\"**Prediction Confidence:** {result['pred_prob']:.2f}\")\n",
    "\n",
    "    col1, col2 = st.columns(2)\n",
    "    col1.image(result['original'], caption=\"Original Histology Image\", use_column_width=True)\n",
    "    col2.image(result['overlay'], caption=\"Grad-CAM Overlay (Model Attention)\", use_column_width=True)\n",
    "\n"
   ]
  },
  {
   "cell_type": "code",
   "execution_count": 7,
   "id": "852d4cc8-6515-4e6e-8490-c3f66cc7f362",
   "metadata": {},
   "outputs": [],
   "source": [
    "import streamlit"
   ]
  },
  {
   "cell_type": "code",
   "execution_count": null,
   "id": "a70c538c-076b-416c-b207-19206a929668",
   "metadata": {},
   "outputs": [],
   "source": []
  }
 ],
 "metadata": {
  "kernelspec": {
   "display_name": "Python 3 (ipykernel)",
   "language": "python",
   "name": "python3"
  },
  "language_info": {
   "codemirror_mode": {
    "name": "ipython",
    "version": 3
   },
   "file_extension": ".py",
   "mimetype": "text/x-python",
   "name": "python",
   "nbconvert_exporter": "python",
   "pygments_lexer": "ipython3",
   "version": "3.8.5"
  }
 },
 "nbformat": 4,
 "nbformat_minor": 5
}
