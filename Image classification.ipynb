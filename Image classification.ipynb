{
 "cells": [
  {
   "cell_type": "code",
   "execution_count": 2,
   "id": "7a659f7c",
   "metadata": {},
   "outputs": [
    {
     "name": "stderr",
     "output_type": "stream",
     "text": [
      "2025-07-06 16:42:48.968864: I tensorflow/core/platform/cpu_feature_guard.cc:182] This TensorFlow binary is optimized to use available CPU instructions in performance-critical operations.\n",
      "To enable the following instructions: AVX2 AVX512F AVX512_VNNI FMA, in other operations, rebuild TensorFlow with the appropriate compiler flags.\n"
     ]
    }
   ],
   "source": [
    "import os\n",
    "import random\n",
    "import numpy as np\n",
    "import pandas as pd\n",
    "import matplotlib.pyplot as plt\n",
    "import seaborn as sns\n",
    "from PIL import Image\n",
    "import cv2 \n",
    "from tqdm import tqdm\n",
    "\n",
    "import warnings\n",
    "warnings.filterwarnings(\"ignore\")\n",
    "\n",
    "import tensorflow as tf\n",
    "from tensorflow import keras\n",
    "from tensorflow.keras import layers, models, optimizers\n"
   ]
  },
  {
   "cell_type": "markdown",
   "id": "14db29f9",
   "metadata": {},
   "source": [
    "# Load Data"
   ]
  },
  {
   "cell_type": "markdown",
   "id": "d69c9a27",
   "metadata": {},
   "source": [
    "https://www.kaggle.com/datasets/orvile/gastric-cancer-histopathology-tissue-image-dataset\n",
    "\n",
    "This dataset comprises 31,096 non-overlapping images, each with a size of 224x224 pixels. These images were extracted from H&E-stained pathological slides of human gastric cancer obtained from Harbin Medical University Cancer Hospital. \n",
    "\n",
    "The dataset focuses on the tumor microenvironment (TME) and includes images categorized into eight distinct tissue types:\n",
    "\n",
    "    ADI: Adipose (fat tissue) 🧈\n",
    "    BACK: Background (non-tissue areas) 🌫️\n",
    "    DEB: Debris (cellular waste) 🗑️\n",
    "    LYM: Lymphocytes (immune cells) 🛡️\n",
    "    MUC: Mucus (protective secretion) 🧴\n",
    "    MUS: Smooth Muscle (muscle tissue) 💪\n",
    "    NORM: Normal Colon Mucosa (healthy tissue for reference) 🌱\n",
    "    STR: Cancer-associated Stroma (connective tissue around the tumor) 🕸️\n",
    "    TUM: Tumor (cancerous tissue) \n",
    "    \n",
    "    "
   ]
  },
  {
   "cell_type": "code",
   "execution_count": 3,
   "id": "81c4182e",
   "metadata": {},
   "outputs": [
    {
     "name": "stdout",
     "output_type": "stream",
     "text": [
      "['ADI', 'MUC', 'NOR', 'LYM', 'DEB', 'MUS', 'TUM', 'STR']\n"
     ]
    }
   ],
   "source": [
    "path = \"Data/HMU-GC-HE-30K/all_image\"\n",
    "tissue_types = os.listdir(path)\n",
    "print(tissue_types)"
   ]
  },
  {
   "cell_type": "code",
   "execution_count": 4,
   "id": "edc281f3",
   "metadata": {},
   "outputs": [
    {
     "name": "stdout",
     "output_type": "stream",
     "text": [
      "ADI: 3887 images\n",
      "MUC: 3887 images\n",
      "NOR: 3887 images\n",
      "LYM: 3887 images\n",
      "DEB: 3887 images\n",
      "MUS: 3887 images\n",
      "TUM: 3887 images\n",
      "STR: 3887 images\n"
     ]
    }
   ],
   "source": [
    "for tissue in tissue_types:\n",
    "    folder_path = os.path.join(path, tissue)\n",
    "    if os.path.isdir(folder_path):\n",
    "        num_images = len([f for f in os.listdir(folder_path) if os.path.isfile(os.path.join(folder_path, f))])\n",
    "        print(f\"{tissue}: {num_images} images\")"
   ]
  },
  {
   "cell_type": "code",
   "execution_count": null,
   "id": "79c5590c",
   "metadata": {},
   "outputs": [],
   "source": []
  }
 ],
 "metadata": {
  "kernelspec": {
   "display_name": "Python 3 (ipykernel)",
   "language": "python",
   "name": "python3"
  },
  "language_info": {
   "codemirror_mode": {
    "name": "ipython",
    "version": 3
   },
   "file_extension": ".py",
   "mimetype": "text/x-python",
   "name": "python",
   "nbconvert_exporter": "python",
   "pygments_lexer": "ipython3",
   "version": "3.8.5"
  }
 },
 "nbformat": 4,
 "nbformat_minor": 5
}
